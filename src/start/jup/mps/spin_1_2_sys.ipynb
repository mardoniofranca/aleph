{
 "cells": [
  {
   "cell_type": "code",
   "execution_count": 1,
   "id": "bfd61233",
   "metadata": {},
   "outputs": [],
   "source": [
    "using ITensors"
   ]
  },
  {
   "cell_type": "code",
   "execution_count": 3,
   "id": "dd8c72ca",
   "metadata": {},
   "outputs": [
    {
     "data": {
      "text/plain": [
       "(dim=2|id=468|\"s1\")"
      ]
     },
     "execution_count": 3,
     "metadata": {},
     "output_type": "execute_result"
    }
   ],
   "source": [
    "# Definir índices físicos\n",
    "s1 = Index(2, \"s1\")"
   ]
  },
  {
   "cell_type": "code",
   "execution_count": 4,
   "id": "86533cee",
   "metadata": {},
   "outputs": [
    {
     "data": {
      "text/plain": [
       "(dim=2|id=761|\"s2\")"
      ]
     },
     "execution_count": 4,
     "metadata": {},
     "output_type": "execute_result"
    }
   ],
   "source": [
    "s2 = Index(2, \"s2\")"
   ]
  },
  {
   "cell_type": "code",
   "execution_count": 5,
   "id": "7683f306",
   "metadata": {},
   "outputs": [],
   "source": [
    "# Singleto: |S> = (|01> - |10>) / sqrt(2)"
   ]
  },
  {
   "cell_type": "code",
   "execution_count": 7,
   "id": "c9f4cf59",
   "metadata": {},
   "outputs": [
    {
     "data": {
      "text/plain": [
       "ITensor ord=2 (dim=2|id=468|\"s1\") (dim=2|id=761|\"s2\")\n",
       "NDTensors.EmptyStorage{NDTensors.EmptyNumber, NDTensors.Dense{NDTensors.EmptyNumber, Vector{NDTensors.EmptyNumber}}}"
      ]
     },
     "execution_count": 7,
     "metadata": {},
     "output_type": "execute_result"
    }
   ],
   "source": [
    "psi = ITensor(s1, s2)"
   ]
  },
  {
   "cell_type": "code",
   "execution_count": 8,
   "id": "7fa24695",
   "metadata": {},
   "outputs": [
    {
     "data": {
      "text/plain": [
       "-0.7071067811865475"
      ]
     },
     "execution_count": 8,
     "metadata": {},
     "output_type": "execute_result"
    }
   ],
   "source": [
    "psi[s1 => 1, s2 => 2] = 1 / sqrt(2)\n",
    "psi[s1 => 2, s2 => 1] = -1 / sqrt(2)"
   ]
  },
  {
   "cell_type": "code",
   "execution_count": 9,
   "id": "220a9760",
   "metadata": {},
   "outputs": [],
   "source": [
    "# --- 1. Cálculo da entropia de von Neumann ---\n",
    "# Realizar SVD para obter os valores singulares"
   ]
  },
  {
   "cell_type": "code",
   "execution_count": 10,
   "id": "7c19e75d",
   "metadata": {},
   "outputs": [
    {
     "data": {
      "text/plain": [
       "ITensors.TruncSVD(ITensor ord=2\n",
       "Dim 1: (dim=2|id=468|\"s1\")\n",
       "Dim 2: (dim=2|id=354|\"Link,u\")\n",
       "NDTensors.Dense{Float64, Vector{Float64}}\n",
       " 2×2\n",
       " 0.0  1.0\n",
       " 1.0  0.0, ITensor ord=2\n",
       "Dim 1: (dim=2|id=354|\"Link,u\")\n",
       "Dim 2: (dim=2|id=804|\"Link,v\")\n",
       "NDTensors.Diag{Float64, Vector{Float64}}\n",
       " 2×2\n",
       " 0.7071067811865475  0.0\n",
       " 0.0                 0.7071067811865475, ITensor ord=2\n",
       "Dim 1: (dim=2|id=761|\"s2\")\n",
       "Dim 2: (dim=2|id=804|\"Link,v\")\n",
       "NDTensors.Dense{Float64, Vector{Float64}}\n",
       " 2×2\n",
       " -1.0  0.0\n",
       " -0.0  1.0, Spectrum{Vector{Float64}, Float64}([0.4999999999999999, 0.4999999999999999], 0.0), (dim=2|id=354|\"Link,u\"), (dim=2|id=804|\"Link,v\"))"
      ]
     },
     "execution_count": 10,
     "metadata": {},
     "output_type": "execute_result"
    }
   ],
   "source": [
    "U, S, V = svd(psi, s1)"
   ]
  },
  {
   "cell_type": "code",
   "execution_count": 14,
   "id": "6efe8cd3",
   "metadata": {},
   "outputs": [
    {
     "data": {
      "text/plain": [
       "Dim 1: 2\n",
       "NDTensors.Dense{Float64, Vector{Float64}}\n",
       " 2-element\n",
       " 0.7071067811865475\n",
       " 0.7071067811865475"
      ]
     },
     "execution_count": 14,
     "metadata": {},
     "output_type": "execute_result"
    }
   ],
   "source": [
    "# Coletar os valores singulares (λ)\n",
    "λ = diag(S)  # Extrai os valores diagonais de S"
   ]
  },
  {
   "cell_type": "code",
   "execution_count": 15,
   "id": "0d9baacd",
   "metadata": {},
   "outputs": [
    {
     "data": {
      "text/plain": [
       "0.6931471805599454"
      ]
     },
     "execution_count": 15,
     "metadata": {},
     "output_type": "execute_result"
    }
   ],
   "source": [
    "# Calcular a entropia\n",
    "entropy = -sum(λ .^ 2 .* log.(λ .^ 2))"
   ]
  },
  {
   "cell_type": "code",
   "execution_count": 17,
   "id": "ed6953f8",
   "metadata": {},
   "outputs": [
    {
     "name": "stdout",
     "output_type": "stream",
     "text": [
      "Entropia de von Neumann para |T_+>: -0.0\n",
      "Entropia de von Neumann para |T_0>: 0.6931471805599452\n",
      "Entropia de von Neumann para |T_->: -0.0\n"
     ]
    }
   ],
   "source": [
    "using ITensors\n",
    "\n",
    "# Definir índices físicos\n",
    "s1 = Index(2, \"s1\")\n",
    "s2 = Index(2, \"s2\")\n",
    "\n",
    "# Função para calcular a entropia de von Neumann\n",
    "function von_neumann_entropy(state, index_to_trace)\n",
    "    # Realizar SVD no índice especificado\n",
    "    U, S, V = svd(state, index_to_trace)\n",
    "    λ = diag(S)\n",
    "    # Filtrar valores positivos e evitar logaritmos de 0\n",
    "    λ = λ[λ .> 1e-12]\n",
    "    # Normalizar os valores singulares\n",
    "    λ = λ ./ sqrt(sum(λ .^ 2))\n",
    "    # Calcular a entropia\n",
    "    return -sum(λ .^ 2 .* log.(λ .^ 2))\n",
    "end\n",
    "\n",
    "# --- Estados tripletos ---\n",
    "\n",
    "# |T_+> = |11>\n",
    "T_plus = ITensor(s1, s2)\n",
    "T_plus[s1 => 2, s2 => 2] = 1.0\n",
    "\n",
    "# |T_0> = (|01> + |10>) / sqrt(2)\n",
    "T_zero = ITensor(s1, s2)\n",
    "T_zero[s1 => 1, s2 => 2] = 1 / sqrt(2)\n",
    "T_zero[s1 => 2, s2 => 1] = 1 / sqrt(2)\n",
    "\n",
    "# |T_-> = |00>\n",
    "T_minus = ITensor(s1, s2)\n",
    "T_minus[s1 => 1, s2 => 1] = 1.0\n",
    "\n",
    "# Cálculo das entropias\n",
    "entropy_T_plus = von_neumann_entropy(T_plus, s1)\n",
    "entropy_T_zero = von_neumann_entropy(T_zero, s1)\n",
    "entropy_T_minus = von_neumann_entropy(T_minus, s1)\n",
    "\n",
    "println(\"Entropia de von Neumann para |T_+>: $entropy_T_plus\")\n",
    "println(\"Entropia de von Neumann para |T_0>: $entropy_T_zero\")\n",
    "println(\"Entropia de von Neumann para |T_->: $entropy_T_minus\")\n"
   ]
  },
  {
   "cell_type": "code",
   "execution_count": null,
   "id": "d2d42310",
   "metadata": {},
   "outputs": [],
   "source": []
  }
 ],
 "metadata": {
  "kernelspec": {
   "display_name": "Julia 1.10.4",
   "language": "julia",
   "name": "julia-1.10"
  },
  "language_info": {
   "file_extension": ".jl",
   "mimetype": "application/julia",
   "name": "julia",
   "version": "1.10.4"
  }
 },
 "nbformat": 4,
 "nbformat_minor": 5
}
