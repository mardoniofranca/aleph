{
 "cells": [
  {
   "cell_type": "code",
   "execution_count": 1,
   "id": "188c35f7",
   "metadata": {},
   "outputs": [],
   "source": [
    "import math"
   ]
  },
  {
   "cell_type": "code",
   "execution_count": 2,
   "id": "233edcdc",
   "metadata": {},
   "outputs": [],
   "source": [
    "import json"
   ]
  },
  {
   "cell_type": "code",
   "execution_count": 3,
   "id": "f00fa474",
   "metadata": {},
   "outputs": [],
   "source": [
    "# ensure we run on the CPU\n",
    "import os\n",
    "os.environ[\"JAX_PLATFORM_NAME\"] = \"cpu\"\n",
    "\n",
    "# Import netket library\n",
    "import netket as nk\n",
    "\n",
    "# Helper libraries\n",
    "import numpy as np\n",
    "import matplotlib.pyplot as plt"
   ]
  },
  {
   "cell_type": "code",
   "execution_count": 4,
   "id": "993066a9",
   "metadata": {},
   "outputs": [],
   "source": [
    "import netket.nn as nknn\n",
    "import flax.linen as nn\n",
    "\n",
    "import jax.numpy as jnp\n",
    "\n",
    "class FFNN(nn.Module):\n",
    "    @nn.compact\n",
    "    def __call__(self, x):\n",
    "        x = nn.Dense(features=2*x.shape[-1], \n",
    "                     use_bias=True, \n",
    "                     param_dtype=np.complex128, \n",
    "                     kernel_init=nn.initializers.normal(stddev=0.01), \n",
    "                     bias_init=nn.initializers.normal(stddev=0.01)\n",
    "                    )(x)\n",
    "        x = nknn.log_cosh(x)\n",
    "        x = jnp.sum(x, axis=-1)\n",
    "        return x"
   ]
  },
  {
   "cell_type": "code",
   "execution_count": null,
   "id": "a6964fdc",
   "metadata": {},
   "outputs": [],
   "source": [
    "radl = []\n",
    "sinl = []\n",
    "cosl = []\n",
    "for i in range(0,360):\n",
    "    rad = math.radians(i); sin = math.sin(rad);  cos = math.cos(rad);\n",
    "    radl.append(rad);  sinl.append(sin); cosl.append(cos);\n",
    "    print(i,rad,cos,sin)  "
   ]
  },
  {
   "cell_type": "code",
   "execution_count": 5,
   "id": "42ddc3a0",
   "metadata": {},
   "outputs": [],
   "source": [
    "J      = [1, 0.2]\n",
    "L      = 14   \n",
    "N_ITER = 600\n",
    "MODEL  = FFNN()"
   ]
  },
  {
   "cell_type": "code",
   "execution_count": 8,
   "id": "5df8ce62",
   "metadata": {},
   "outputs": [],
   "source": [
    "def run(J, L, N_ITER, MODEL):\n",
    "    \n",
    "    model = MODEL\n",
    "    \n",
    "    edge_colors = []\n",
    "    for i in range(L):\n",
    "        edge_colors.append([i, (i+1)%L, 1])\n",
    "        edge_colors.append([i, (i+2)%L, 2])\n",
    "\n",
    "    g = nk.graph.Graph(edges=edge_colors)\n",
    "    sigmaz = [[1, 0], [0, -1]]\n",
    "    mszsz = (np.kron(sigmaz, sigmaz))\n",
    "    exchange = np.asarray([[0, 0, 0, 0], [0, 0, 2, 0], [0, 2, 0, 0], [0, 0, 0, 0]])\n",
    "\n",
    "    bond_operator = [\n",
    "        (J[0] * mszsz).tolist(),\n",
    "        (J[1] * mszsz).tolist(),\n",
    "        (-J[0] * exchange).tolist(),  \n",
    "        (J[1] * exchange).tolist(),\n",
    "    ]\n",
    "\n",
    "    bond_color = [1, 2, 1, 2]\n",
    "    hi = nk.hilbert.Spin(s=0.5, total_sz=0.0, N=g.n_nodes)\n",
    "    op = nk.operator.GraphOperator(hi, graph=g, bond_ops=bond_operator, bond_ops_colors=bond_color)\n",
    "    sa = nk.sampler.MetropolisExchange(hilbert=hi, graph=g, d_max = 2)\n",
    "\n",
    "    vs = nk.vqs.MCState(sa, model, n_samples=1008)\n",
    "\n",
    "    opt = nk.optimizer.Sgd(learning_rate=0.01)\n",
    "\n",
    "    sr = nk.optimizer.SR(diag_shift=0.01)\n",
    "\n",
    "    gs = nk.VMC(hamiltonian=op, optimizer=opt, variational_state=vs, preconditioner=sr)\n",
    "    \n",
    "    sf = []\n",
    "    sites = []\n",
    "    structure_factor = nk.operator.LocalOperator(hi, dtype=complex)\n",
    "    for i in range(0, L):\n",
    "        for j in range(0, L):\n",
    "            structure_factor += (nk.operator.spin.sigmaz(hi, i)*nk.operator.spin.sigmaz(hi, j))*((-1)**(i-j))/L\n",
    "    \n",
    "    gs.run(out='logs/n_14_1_0_0_2_test', n_iter=N_ITER, obs={'Structure Factor': structure_factor})    \n",
    "    "
   ]
  },
  {
   "cell_type": "code",
   "execution_count": 9,
   "id": "f18044ec",
   "metadata": {},
   "outputs": [
    {
     "name": "stderr",
     "output_type": "stream",
     "text": [
      "  0%|                                                                                                                  | 0/600 [00:00<?, ?it/s]/home/mardoniofranca/work/env/lib/python3.10/site-packages/netket/optimizer/qgt/qgt_onthefly.py:107: HolomorphicUndeclaredWarning: \n",
      "Defaulting to `holomorphic=False`, but this might lead to increased\n",
      "computational cost or disabled features. Check if your variational\n",
      "function is holomorphic, and if so specify `holomorphic=True`as an extra\n",
      "keyword argument.\n",
      "\n",
      "To silence this warning, specify the `holomorphic=False/True` keyword\n",
      "argument.\n",
      "\n",
      "To numerically check whether your variational function is or not holomorphic\n",
      "you can use the following snippet:\n",
      "\n",
      "```python\n",
      "   vs = nk.vqs.MCState(...)\n",
      "\n",
      "   nk.utils.is_probably_holomorphic(vs._apply_fun, vs.parameters, vs.samples, vs.model_state)\n",
      "```\n",
      "\n",
      "if `nk.utils.is_probably_holomorphic` returns False, then your function is not holomorphic.\n",
      "If it returns True, it is probably holomorphic.\n",
      "\n",
      "\n",
      "-------------------------------------------------------\n",
      "For more detailed informations, visit the following link:\n",
      "\t https://netket.readthedocs.io/en/latest/api/_generated/errors/netket.errors.HolomorphicUndeclaredWarning.html\n",
      "or the list of all common errors and warnings at\n",
      "\t https://netket.readthedocs.io/en/latest/api/errors.html\n",
      "-------------------------------------------------------\n",
      "\n",
      "  warnings.warn(HolomorphicUndeclaredWarning(), UserWarning)\n",
      "/home/mardoniofranca/work/env/lib/python3.10/site-packages/jax/_src/linear_util.py:191: HolomorphicUndeclaredWarning: \n",
      "Defaulting to `holomorphic=False`, but this might lead to increased\n",
      "computational cost or disabled features. Check if your variational\n",
      "function is holomorphic, and if so specify `holomorphic=True`as an extra\n",
      "keyword argument.\n",
      "\n",
      "To silence this warning, specify the `holomorphic=False/True` keyword\n",
      "argument.\n",
      "\n",
      "To numerically check whether your variational function is or not holomorphic\n",
      "you can use the following snippet:\n",
      "\n",
      "```python\n",
      "   vs = nk.vqs.MCState(...)\n",
      "\n",
      "   nk.utils.is_probably_holomorphic(vs._apply_fun, vs.parameters, vs.samples, vs.model_state)\n",
      "```\n",
      "\n",
      "if `nk.utils.is_probably_holomorphic` returns False, then your function is not holomorphic.\n",
      "If it returns True, it is probably holomorphic.\n",
      "\n",
      "\n",
      "-------------------------------------------------------\n",
      "For more detailed informations, visit the following link:\n",
      "\t https://netket.readthedocs.io/en/latest/api/_generated/errors/netket.errors.HolomorphicUndeclaredWarning.html\n",
      "or the list of all common errors and warnings at\n",
      "\t https://netket.readthedocs.io/en/latest/api/errors.html\n",
      "-------------------------------------------------------\n",
      "\n",
      "  ans = self.f(*args, **dict(self.params, **kwargs))\n",
      "  0%|                                                                | 0/600 [00:04<?, ?it/s, Energy=-13.23-0.00j ± 0.23 [σ²=55.27, R̂=1.0057]]/home/mardoniofranca/work/env/lib/python3.10/site-packages/netket/optimizer/qgt/qgt_onthefly.py:107: HolomorphicUndeclaredWarning: \n",
      "Defaulting to `holomorphic=False`, but this might lead to increased\n",
      "computational cost or disabled features. Check if your variational\n",
      "function is holomorphic, and if so specify `holomorphic=True`as an extra\n",
      "keyword argument.\n",
      "\n",
      "To silence this warning, specify the `holomorphic=False/True` keyword\n",
      "argument.\n",
      "\n",
      "To numerically check whether your variational function is or not holomorphic\n",
      "you can use the following snippet:\n",
      "\n",
      "```python\n",
      "   vs = nk.vqs.MCState(...)\n",
      "\n",
      "   nk.utils.is_probably_holomorphic(vs._apply_fun, vs.parameters, vs.samples, vs.model_state)\n",
      "```\n",
      "\n",
      "if `nk.utils.is_probably_holomorphic` returns False, then your function is not holomorphic.\n",
      "If it returns True, it is probably holomorphic.\n",
      "\n",
      "\n",
      "-------------------------------------------------------\n",
      "For more detailed informations, visit the following link:\n",
      "\t https://netket.readthedocs.io/en/latest/api/_generated/errors/netket.errors.HolomorphicUndeclaredWarning.html\n",
      "or the list of all common errors and warnings at\n",
      "\t https://netket.readthedocs.io/en/latest/api/errors.html\n",
      "-------------------------------------------------------\n",
      "\n",
      "  warnings.warn(HolomorphicUndeclaredWarning(), UserWarning)\n",
      "100%|███████████████████████████████████████████████| 600/600 [01:47<00:00,  5.59it/s, Energy=-23.0637+0.0029j ± 0.0033 [σ²=0.0109, R̂=1.0063]]\n"
     ]
    }
   ],
   "source": [
    "run(J, L, N_ITER, MODEL)"
   ]
  },
  {
   "cell_type": "code",
   "execution_count": null,
   "id": "76e6bd42",
   "metadata": {},
   "outputs": [],
   "source": []
  },
  {
   "cell_type": "code",
   "execution_count": null,
   "id": "26823095",
   "metadata": {},
   "outputs": [],
   "source": []
  },
  {
   "cell_type": "code",
   "execution_count": null,
   "id": "2c014d6a",
   "metadata": {},
   "outputs": [],
   "source": []
  },
  {
   "cell_type": "code",
   "execution_count": null,
   "id": "c367fc8f",
   "metadata": {},
   "outputs": [],
   "source": []
  },
  {
   "cell_type": "code",
   "execution_count": null,
   "id": "84fb2fcd",
   "metadata": {},
   "outputs": [],
   "source": []
  },
  {
   "cell_type": "code",
   "execution_count": null,
   "id": "1f39bf18",
   "metadata": {},
   "outputs": [],
   "source": [
    "# Run the optimization protocol\n"
   ]
  },
  {
   "cell_type": "code",
   "execution_count": null,
   "id": "cb8e52bb",
   "metadata": {},
   "outputs": [],
   "source": [
    "\n",
    "\n",
    "data=json.load(open(\"logs/n_14_1_0_0_2_test.log\"))\n",
    "\n",
    "iters = data['Energy']['iters']\n",
    "energy=data['Energy']['Mean']['real']\n",
    "sf=data['Structure Factor']['Mean']['real']"
   ]
  },
  {
   "cell_type": "code",
   "execution_count": null,
   "id": "583cec13",
   "metadata": {},
   "outputs": [],
   "source": [
    "fig, ax1 = plt.subplots()\n",
    "ax1.plot(iters, energy, color='blue', label='Energy')\n",
    "ax1.set_ylabel('Energy')\n",
    "ax1.set_xlabel('Iteration')\n",
    "ax2 = ax1.twinx() \n",
    "ax2.plot(iters, np.array(sf), color='green', label='Structure Factor')\n",
    "ax2.set_ylabel('Structure Factor')\n",
    "ax1.legend(loc=2)\n",
    "ax2.legend(loc=1)\n",
    "plt.show()"
   ]
  },
  {
   "cell_type": "code",
   "execution_count": null,
   "id": "b09ed505",
   "metadata": {},
   "outputs": [],
   "source": [
    "print(r\"Structure factor = {0:.3f}({1:.3f})\".format(np.mean(sf[-50:]),\n",
    "                                              np.std(np.array(sf[-50:]))/np.sqrt(50)))\n",
    "print(r\"Energy = {0:.3f}({1:.3f})\".format(np.mean(energy[-50:]), np.std(energy[-50:])/(np.sqrt(50))))"
   ]
  },
  {
   "cell_type": "code",
   "execution_count": null,
   "id": "b85e4c6d",
   "metadata": {},
   "outputs": [],
   "source": [
    "E_gs, ket_gs = nk.exact.lanczos_ed(op, compute_eigenvectors=True)\n",
    "structure_factor_gs = (ket_gs.T.conj()@structure_factor.to_linear_operator()@ket_gs).real[0,0]"
   ]
  },
  {
   "cell_type": "code",
   "execution_count": null,
   "id": "fbb24eb6",
   "metadata": {},
   "outputs": [],
   "source": [
    "print(\"Exact Ground-state Structure Factor: {0:.3f}\".format(structure_factor_gs))\n",
    "print(\"Exact ground state energy = {0:.3f}\".format(E_gs[0]))"
   ]
  },
  {
   "cell_type": "code",
   "execution_count": null,
   "id": "a297d23b",
   "metadata": {},
   "outputs": [],
   "source": []
  }
 ],
 "metadata": {
  "kernelspec": {
   "display_name": "Python 3 (ipykernel)",
   "language": "python",
   "name": "python3"
  },
  "language_info": {
   "codemirror_mode": {
    "name": "ipython",
    "version": 3
   },
   "file_extension": ".py",
   "mimetype": "text/x-python",
   "name": "python",
   "nbconvert_exporter": "python",
   "pygments_lexer": "ipython3",
   "version": "3.10.12"
  }
 },
 "nbformat": 4,
 "nbformat_minor": 5
}
